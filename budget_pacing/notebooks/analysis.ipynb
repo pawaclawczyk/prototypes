{
 "cells": [
  {
   "cell_type": "markdown",
   "id": "72850f68",
   "metadata": {
    "tags": [
     "papermill-error-cell-tag"
    ]
   },
   "source": [
    "<span style=\"color:red; font-family:Helvetica Neue, Helvetica, Arial, sans-serif; font-size:2em;\">An Exception was encountered at '<a href=\"#papermill-error-cell\">In [1]</a>'.</span>"
   ]
  },
  {
   "cell_type": "markdown",
   "id": "cc6b866c",
   "metadata": {
    "tags": [
     "papermill-error-cell-tag"
    ]
   },
   "source": [
    "<span id=\"papermill-error-cell\" style=\"color:red; font-family:Helvetica Neue, Helvetica, Arial, sans-serif; font-size:2em;\">Execution using papermill encountered an exception here and stopped:</span>"
   ]
  },
  {
   "cell_type": "code",
   "execution_count": 1,
   "id": "38419a50",
   "metadata": {
    "execution": {
     "iopub.execute_input": "2022-04-29T14:23:05.104034Z",
     "iopub.status.busy": "2022-04-29T14:23:05.103440Z",
     "iopub.status.idle": "2022-04-29T14:23:07.503311Z",
     "shell.execute_reply": "2022-04-29T14:23:07.502228Z"
    },
    "papermill": {
     "duration": 2.415565,
     "end_time": "2022-04-29T14:23:07.505098",
     "exception": true,
     "start_time": "2022-04-29T14:23:05.089533",
     "status": "failed"
    },
    "pycharm": {
     "name": "#%%\n"
    },
    "tags": []
   },
   "outputs": [
    {
     "ename": "ModuleNotFoundError",
     "evalue": "No module named 'analysis'",
     "output_type": "error",
     "traceback": [
      "\u001b[0;31m---------------------------------------------------------------------------\u001b[0m",
      "\u001b[0;31mModuleNotFoundError\u001b[0m                       Traceback (most recent call last)",
      "Input \u001b[0;32mIn [1]\u001b[0m, in \u001b[0;36m<cell line: 5>\u001b[0;34m()\u001b[0m\n\u001b[1;32m      1\u001b[0m \u001b[38;5;28;01mfrom\u001b[39;00m \u001b[38;5;21;01mpathlib\u001b[39;00m \u001b[38;5;28;01mimport\u001b[39;00m Path\n\u001b[1;32m      3\u001b[0m \u001b[38;5;28;01mimport\u001b[39;00m \u001b[38;5;21;01mseaborn\u001b[39;00m \u001b[38;5;28;01mas\u001b[39;00m \u001b[38;5;21;01msns\u001b[39;00m\n\u001b[0;32m----> 5\u001b[0m \u001b[38;5;28;01mimport\u001b[39;00m \u001b[38;5;21;01manalysis\u001b[39;00m\n\u001b[1;32m      6\u001b[0m \u001b[38;5;28;01mimport\u001b[39;00m \u001b[38;5;21;01mload_save\u001b[39;00m\n\u001b[1;32m      7\u001b[0m \u001b[38;5;28;01mfrom\u001b[39;00m \u001b[38;5;21;01mad_server\u001b[39;00m \u001b[38;5;28;01mimport\u001b[39;00m KIND_WIN\n",
      "\u001b[0;31mModuleNotFoundError\u001b[0m: No module named 'analysis'"
     ]
    }
   ],
   "source": [
    "from pathlib import Path\n",
    "\n",
    "import seaborn as sns\n",
    "\n",
    "import analysis\n",
    "import load_save\n",
    "from ad_server import KIND_WIN\n",
    "\n",
    "sns.set_theme(style=\"whitegrid\")"
   ]
  },
  {
   "cell_type": "code",
   "execution_count": null,
   "id": "78d21d9d",
   "metadata": {
    "papermill": {
     "duration": null,
     "end_time": null,
     "exception": null,
     "start_time": null,
     "status": "pending"
    },
    "pycharm": {
     "name": "#%%\n"
    },
    "tags": [
     "parameters"
    ]
   },
   "outputs": [],
   "source": [
    "# Parameters\n",
    "\n",
    "scenario = \"scenario\""
   ]
  },
  {
   "cell_type": "code",
   "execution_count": null,
   "id": "8a53118a",
   "metadata": {
    "papermill": {
     "duration": null,
     "end_time": null,
     "exception": null,
     "start_time": null,
     "status": "pending"
    },
    "tags": [
     "injected-parameters"
    ]
   },
   "outputs": [],
   "source": [
    "# Parameters\n",
    "scenario = \"dagster_job\"\n"
   ]
  },
  {
   "cell_type": "code",
   "execution_count": null,
   "id": "eefb4787",
   "metadata": {
    "papermill": {
     "duration": null,
     "end_time": null,
     "exception": null,
     "start_time": null,
     "status": "pending"
    },
    "pycharm": {
     "name": "#%%\n"
    },
    "tags": []
   },
   "outputs": [],
   "source": [
    "cases = [\"ASAP\", \"Throttled\"]\n",
    "\n",
    "output_dir = Path(\"data\") / scenario"
   ]
  },
  {
   "cell_type": "code",
   "execution_count": null,
   "id": "5f50e500",
   "metadata": {
    "papermill": {
     "duration": null,
     "end_time": null,
     "exception": null,
     "start_time": null,
     "status": "pending"
    },
    "pycharm": {
     "name": "#%%\n"
    },
    "tags": []
   },
   "outputs": [],
   "source": [
    "from ad_server import KIND_NO_WIN\n",
    "\n",
    "base_distribution = load_save.load_base_distribution(output_dir)\n",
    "campaigns = load_save.load_campaigns(output_dir)\n",
    "events = load_save.load_events_from_multiple_cases(output_dir, cases, [KIND_WIN, KIND_NO_WIN])"
   ]
  },
  {
   "cell_type": "code",
   "execution_count": null,
   "id": "76347f31",
   "metadata": {
    "papermill": {
     "duration": null,
     "end_time": null,
     "exception": null,
     "start_time": null,
     "status": "pending"
    },
    "pycharm": {
     "name": "#%%\n"
    },
    "tags": []
   },
   "outputs": [],
   "source": [
    "analysis.compare_budget_spending(campaigns, base_distribution, events)"
   ]
  },
  {
   "cell_type": "code",
   "execution_count": null,
   "id": "b12ce18d",
   "metadata": {
    "papermill": {
     "duration": null,
     "end_time": null,
     "exception": null,
     "start_time": null,
     "status": "pending"
    },
    "pycharm": {
     "name": "#%%\n"
    },
    "tags": []
   },
   "outputs": [],
   "source": [
    "analysis.compare_lifespan(events)"
   ]
  },
  {
   "cell_type": "code",
   "execution_count": null,
   "id": "af22b0fc",
   "metadata": {
    "papermill": {
     "duration": null,
     "end_time": null,
     "exception": null,
     "start_time": null,
     "status": "pending"
    },
    "pycharm": {
     "name": "#%%\n"
    },
    "tags": []
   },
   "outputs": [],
   "source": [
    "analysis.compare_fill_rate(events)"
   ]
  },
  {
   "cell_type": "code",
   "execution_count": null,
   "id": "a16c77f1",
   "metadata": {
    "papermill": {
     "duration": null,
     "end_time": null,
     "exception": null,
     "start_time": null,
     "status": "pending"
    },
    "pycharm": {
     "name": "#%%\n"
    },
    "tags": []
   },
   "outputs": [],
   "source": [
    "analysis.compare_bid_value(events)"
   ]
  },
  {
   "cell_type": "code",
   "execution_count": null,
   "id": "6d5e256e",
   "metadata": {
    "papermill": {
     "duration": null,
     "end_time": null,
     "exception": null,
     "start_time": null,
     "status": "pending"
    },
    "pycharm": {
     "name": "#%%\n"
    },
    "tags": []
   },
   "outputs": [],
   "source": [
    "analysis.summary_comparison(events)"
   ]
  }
 ],
 "metadata": {
  "celltoolbar": "Tags",
  "kernelspec": {
   "display_name": "Python 3 (ipykernel)",
   "language": "python",
   "name": "python3"
  },
  "language_info": {
   "codemirror_mode": {
    "name": "ipython",
    "version": 3
   },
   "file_extension": ".py",
   "mimetype": "text/x-python",
   "name": "python",
   "nbconvert_exporter": "python",
   "pygments_lexer": "ipython3",
   "version": "3.10.4"
  },
  "papermill": {
   "default_parameters": {},
   "duration": 5.04037,
   "end_time": "2022-04-29T14:23:08.050161",
   "environment_variables": {},
   "exception": true,
   "input_path": "templates/analysis.template.ipynb",
   "output_path": "data/dagster_job/../../notebooks/analysis.ipynb",
   "parameters": {
    "scenario": "dagster_job"
   },
   "start_time": "2022-04-29T14:23:03.009791",
   "version": "2.3.4"
  }
 },
 "nbformat": 4,
 "nbformat_minor": 5
}