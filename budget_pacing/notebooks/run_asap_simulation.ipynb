{
 "cells": [
  {
   "cell_type": "code",
   "execution_count": 1,
   "metadata": {
    "collapsed": true
   },
   "outputs": [],
   "source": [
    "from pathlib import Path\n",
    "\n",
    "import ad_server\n",
    "import distributions\n",
    "import load_save\n",
    "import simulation"
   ]
  },
  {
   "cell_type": "code",
   "execution_count": 2,
   "outputs": [],
   "source": [
    "output_dir = Path(\"data\")\n",
    "case_name = \"asap\"\n",
    "\n",
    "windows = 24 * 60\n",
    "base_distribution = distributions.custom_dist(windows)\n",
    "\n",
    "requests = 10 * 100_000\n",
    "requests_distribution = distributions.traffic_dist(base_distribution, requests)\n",
    "\n",
    "campaigns = []\n",
    "for i in range(1, 11):\n",
    "    bid_value = 10 + i\n",
    "    planned_budget = 100_000 * bid_value\n",
    "    campaigns.append(ad_server.Campaign(i, planned_budget, bid_value))\n",
    "\n",
    "pacing = ad_server.AsapPacing()\n",
    "\n",
    "select_win = ad_server.second_price_auction\n",
    "process = ad_server.AdServer(pacing, select_win, campaigns)"
   ],
   "metadata": {
    "collapsed": false,
    "pycharm": {
     "name": "#%%\n"
    }
   }
  },
  {
   "cell_type": "code",
   "execution_count": 3,
   "outputs": [],
   "source": [
    "load_save.save_base_distribution(output_dir, base_distribution)\n",
    "load_save.save_campaigns(output_dir, campaigns)"
   ],
   "metadata": {
    "collapsed": false,
    "pycharm": {
     "name": "#%%\n"
    }
   }
  },
  {
   "cell_type": "code",
   "execution_count": 4,
   "outputs": [],
   "source": [
    "sim = simulation.Simulation(requests_distribution, process)"
   ],
   "metadata": {
    "collapsed": false,
    "pycharm": {
     "name": "#%%\n"
    }
   }
  },
  {
   "cell_type": "code",
   "execution_count": 5,
   "outputs": [],
   "source": [
    "events = sim.run()"
   ],
   "metadata": {
    "collapsed": false,
    "pycharm": {
     "name": "#%%\n"
    }
   }
  },
  {
   "cell_type": "code",
   "execution_count": 6,
   "outputs": [
    {
     "ename": "KeyboardInterrupt",
     "evalue": "",
     "output_type": "error",
     "traceback": [
      "\u001B[0;31m---------------------------------------------------------------------------\u001B[0m",
      "\u001B[0;31mKeyboardInterrupt\u001B[0m                         Traceback (most recent call last)",
      "Input \u001B[0;32mIn [6]\u001B[0m, in \u001B[0;36m<cell line: 1>\u001B[0;34m()\u001B[0m\n\u001B[0;32m----> 1\u001B[0m \u001B[43mload_save\u001B[49m\u001B[38;5;241;43m.\u001B[39;49m\u001B[43msave_events\u001B[49m\u001B[43m(\u001B[49m\u001B[43moutput_dir\u001B[49m\u001B[43m,\u001B[49m\u001B[43m \u001B[49m\u001B[43mcase_name\u001B[49m\u001B[43m,\u001B[49m\u001B[43m \u001B[49m\u001B[43mevents\u001B[49m\u001B[43m)\u001B[49m\n",
      "File \u001B[0;32m~/projects/prototypes/load_save.py:53\u001B[0m, in \u001B[0;36msave_events\u001B[0;34m(output_dir, case_name, events)\u001B[0m\n\u001B[1;32m     51\u001B[0m os\u001B[38;5;241m.\u001B[39mmakedirs(output_dir, exist_ok\u001B[38;5;241m=\u001B[39m\u001B[38;5;28;01mTrue\u001B[39;00m)\n\u001B[1;32m     52\u001B[0m path \u001B[38;5;241m=\u001B[39m output_dir \u001B[38;5;241m/\u001B[39m \u001B[38;5;124mf\u001B[39m\u001B[38;5;124m\"\u001B[39m\u001B[38;5;132;01m{\u001B[39;00mcase_name\u001B[38;5;132;01m}\u001B[39;00m\u001B[38;5;124m.parquet\u001B[39m\u001B[38;5;124m\"\u001B[39m\n\u001B[0;32m---> 53\u001B[0m df \u001B[38;5;241m=\u001B[39m \u001B[43mpd\u001B[49m\u001B[38;5;241;43m.\u001B[39;49m\u001B[43mDataFrame\u001B[49m\u001B[43m(\u001B[49m\u001B[43me\u001B[49m\u001B[38;5;241;43m.\u001B[39;49m\u001B[43mto_dict\u001B[49m\u001B[43m(\u001B[49m\u001B[43m)\u001B[49m\u001B[43m \u001B[49m\u001B[38;5;28;43;01mfor\u001B[39;49;00m\u001B[43m \u001B[49m\u001B[43me\u001B[49m\u001B[43m \u001B[49m\u001B[38;5;129;43;01min\u001B[39;49;00m\u001B[43m \u001B[49m\u001B[43mevents\u001B[49m\u001B[43m)\u001B[49m\n\u001B[1;32m     54\u001B[0m df\u001B[38;5;241m.\u001B[39mindex\u001B[38;5;241m.\u001B[39mname \u001B[38;5;241m=\u001B[39m \u001B[38;5;124m\"\u001B[39m\u001B[38;5;124mord\u001B[39m\u001B[38;5;124m\"\u001B[39m\n\u001B[1;32m     55\u001B[0m df\u001B[38;5;241m.\u001B[39mto_parquet(path)\n",
      "File \u001B[0;32m~/projects/prototypes/.venv/lib/python3.10/site-packages/pandas/core/frame.py:710\u001B[0m, in \u001B[0;36mDataFrame.__init__\u001B[0;34m(self, data, index, columns, dtype, copy)\u001B[0m\n\u001B[1;32m    708\u001B[0m         data \u001B[38;5;241m=\u001B[39m np\u001B[38;5;241m.\u001B[39masarray(data)\n\u001B[1;32m    709\u001B[0m     \u001B[38;5;28;01melse\u001B[39;00m:\n\u001B[0;32m--> 710\u001B[0m         data \u001B[38;5;241m=\u001B[39m \u001B[38;5;28;43mlist\u001B[39;49m\u001B[43m(\u001B[49m\u001B[43mdata\u001B[49m\u001B[43m)\u001B[49m\n\u001B[1;32m    711\u001B[0m \u001B[38;5;28;01mif\u001B[39;00m \u001B[38;5;28mlen\u001B[39m(data) \u001B[38;5;241m>\u001B[39m \u001B[38;5;241m0\u001B[39m:\n\u001B[1;32m    712\u001B[0m     \u001B[38;5;28;01mif\u001B[39;00m is_dataclass(data[\u001B[38;5;241m0\u001B[39m]):\n",
      "File \u001B[0;32m~/projects/prototypes/load_save.py:53\u001B[0m, in \u001B[0;36m<genexpr>\u001B[0;34m(.0)\u001B[0m\n\u001B[1;32m     51\u001B[0m os\u001B[38;5;241m.\u001B[39mmakedirs(output_dir, exist_ok\u001B[38;5;241m=\u001B[39m\u001B[38;5;28;01mTrue\u001B[39;00m)\n\u001B[1;32m     52\u001B[0m path \u001B[38;5;241m=\u001B[39m output_dir \u001B[38;5;241m/\u001B[39m \u001B[38;5;124mf\u001B[39m\u001B[38;5;124m\"\u001B[39m\u001B[38;5;132;01m{\u001B[39;00mcase_name\u001B[38;5;132;01m}\u001B[39;00m\u001B[38;5;124m.parquet\u001B[39m\u001B[38;5;124m\"\u001B[39m\n\u001B[0;32m---> 53\u001B[0m df \u001B[38;5;241m=\u001B[39m pd\u001B[38;5;241m.\u001B[39mDataFrame(e\u001B[38;5;241m.\u001B[39mto_dict() \u001B[38;5;28;01mfor\u001B[39;00m e \u001B[38;5;129;01min\u001B[39;00m events)\n\u001B[1;32m     54\u001B[0m df\u001B[38;5;241m.\u001B[39mindex\u001B[38;5;241m.\u001B[39mname \u001B[38;5;241m=\u001B[39m \u001B[38;5;124m\"\u001B[39m\u001B[38;5;124mord\u001B[39m\u001B[38;5;124m\"\u001B[39m\n\u001B[1;32m     55\u001B[0m df\u001B[38;5;241m.\u001B[39mto_parquet(path)\n",
      "File \u001B[0;32m~/projects/prototypes/simulation.py:60\u001B[0m, in \u001B[0;36mSimulation.run\u001B[0;34m(self)\u001B[0m\n\u001B[1;32m     58\u001B[0m \u001B[38;5;28;01mfor\u001B[39;00m window, requests \u001B[38;5;129;01min\u001B[39;00m \u001B[38;5;28menumerate\u001B[39m(\u001B[38;5;28mself\u001B[39m\u001B[38;5;241m.\u001B[39mdist):\n\u001B[1;32m     59\u001B[0m     \u001B[38;5;28;01mfor\u001B[39;00m request_in_window \u001B[38;5;129;01min\u001B[39;00m \u001B[38;5;28mrange\u001B[39m(requests):\n\u001B[0;32m---> 60\u001B[0m         \u001B[38;5;28;01myield from\u001B[39;00m \u001B[38;5;28mself\u001B[39m\u001B[38;5;241m.\u001B[39mprocess\u001B[38;5;241m.\u001B[39mrun(Request(request, window, request_in_window))\n\u001B[1;32m     61\u001B[0m         request \u001B[38;5;241m+\u001B[39m\u001B[38;5;241m=\u001B[39m \u001B[38;5;241m1\u001B[39m\n\u001B[1;32m     62\u001B[0m     \u001B[38;5;28mself\u001B[39m\u001B[38;5;241m.\u001B[39mprocess\u001B[38;5;241m.\u001B[39mnotify_window_end(window)\n",
      "File \u001B[0;32m~/projects/prototypes/ad_server.py:217\u001B[0m, in \u001B[0;36mAdServer.run\u001B[0;34m(self, request)\u001B[0m\n\u001B[1;32m    215\u001B[0m \u001B[38;5;28;01mdef\u001B[39;00m \u001B[38;5;21mrun\u001B[39m(\u001B[38;5;28mself\u001B[39m, request: Request) \u001B[38;5;241m-\u001B[39m\u001B[38;5;241m>\u001B[39m Iterable[AdServerEvent]:\n\u001B[1;32m    216\u001B[0m     \u001B[38;5;124;03m\"\"\"Runs an auction.\"\"\"\u001B[39;00m\n\u001B[0;32m--> 217\u001B[0m     bids \u001B[38;5;241m=\u001B[39m \u001B[38;5;28;43mself\u001B[39;49m\u001B[38;5;241;43m.\u001B[39;49m\u001B[43mcollect_bids\u001B[49m\u001B[43m(\u001B[49m\u001B[43mrequest\u001B[49m\u001B[43m)\u001B[49m\n\u001B[1;32m    218\u001B[0m     win \u001B[38;5;241m=\u001B[39m \u001B[38;5;28mself\u001B[39m\u001B[38;5;241m.\u001B[39mselect_win(request, bids)\n\u001B[1;32m    219\u001B[0m     \u001B[38;5;28mself\u001B[39m\u001B[38;5;241m.\u001B[39mwins\u001B[38;5;241m.\u001B[39mappend(win)\n",
      "File \u001B[0;32m~/projects/prototypes/ad_server.py:230\u001B[0m, in \u001B[0;36mAdServer.collect_bids\u001B[0;34m(self, request)\u001B[0m\n\u001B[1;32m    228\u001B[0m \u001B[38;5;28;01mdef\u001B[39;00m \u001B[38;5;21mcollect_bids\u001B[39m(\u001B[38;5;28mself\u001B[39m, request: Request) \u001B[38;5;241m-\u001B[39m\u001B[38;5;241m>\u001B[39m List[AdServerEvent]:\n\u001B[1;32m    229\u001B[0m     \u001B[38;5;124;03m\"\"\"Collects bids from each campaign.\"\"\"\u001B[39;00m\n\u001B[0;32m--> 230\u001B[0m     \u001B[38;5;28;01mreturn\u001B[39;00m [\u001B[38;5;28mself\u001B[39m\u001B[38;5;241m.\u001B[39mpacing\u001B[38;5;241m.\u001B[39mbid(c, request) \u001B[38;5;28;01mfor\u001B[39;00m c \u001B[38;5;129;01min\u001B[39;00m \u001B[38;5;28mself\u001B[39m\u001B[38;5;241m.\u001B[39mcampaigns\u001B[38;5;241m.\u001B[39mvalues()]\n",
      "File \u001B[0;32m~/projects/prototypes/ad_server.py:230\u001B[0m, in \u001B[0;36m<listcomp>\u001B[0;34m(.0)\u001B[0m\n\u001B[1;32m    228\u001B[0m \u001B[38;5;28;01mdef\u001B[39;00m \u001B[38;5;21mcollect_bids\u001B[39m(\u001B[38;5;28mself\u001B[39m, request: Request) \u001B[38;5;241m-\u001B[39m\u001B[38;5;241m>\u001B[39m List[AdServerEvent]:\n\u001B[1;32m    229\u001B[0m     \u001B[38;5;124;03m\"\"\"Collects bids from each campaign.\"\"\"\u001B[39;00m\n\u001B[0;32m--> 230\u001B[0m     \u001B[38;5;28;01mreturn\u001B[39;00m [\u001B[38;5;28;43mself\u001B[39;49m\u001B[38;5;241;43m.\u001B[39;49m\u001B[43mpacing\u001B[49m\u001B[38;5;241;43m.\u001B[39;49m\u001B[43mbid\u001B[49m\u001B[43m(\u001B[49m\u001B[43mc\u001B[49m\u001B[43m,\u001B[49m\u001B[43m \u001B[49m\u001B[43mrequest\u001B[49m\u001B[43m)\u001B[49m \u001B[38;5;28;01mfor\u001B[39;00m c \u001B[38;5;129;01min\u001B[39;00m \u001B[38;5;28mself\u001B[39m\u001B[38;5;241m.\u001B[39mcampaigns\u001B[38;5;241m.\u001B[39mvalues()]\n",
      "File \u001B[0;32m~/projects/prototypes/ad_server.py:104\u001B[0m, in \u001B[0;36mAsapPacing.bid\u001B[0;34m(self, campaign, request)\u001B[0m\n\u001B[1;32m    102\u001B[0m \u001B[38;5;28;01mif\u001B[39;00m campaign\u001B[38;5;241m.\u001B[39mbid_value \u001B[38;5;241m<\u001B[39m\u001B[38;5;241m=\u001B[39m campaign\u001B[38;5;241m.\u001B[39mstate\u001B[38;5;241m.\u001B[39mavailable_budget:\n\u001B[1;32m    103\u001B[0m     campaign\u001B[38;5;241m.\u001B[39mstate\u001B[38;5;241m.\u001B[39malloc \u001B[38;5;241m+\u001B[39m\u001B[38;5;241m=\u001B[39m campaign\u001B[38;5;241m.\u001B[39mbid_value\n\u001B[0;32m--> 104\u001B[0m     \u001B[38;5;28;01mreturn\u001B[39;00m \u001B[43mAdServerEvent\u001B[49m\u001B[38;5;241;43m.\u001B[39;49m\u001B[43mbid\u001B[49m\u001B[43m(\u001B[49m\u001B[43mrequest\u001B[49m\u001B[43m,\u001B[49m\u001B[43m \u001B[49m\u001B[43mcampaign\u001B[49m\u001B[38;5;241;43m.\u001B[39;49m\u001B[43mcampaign_id\u001B[49m\u001B[43m,\u001B[49m\u001B[43m \u001B[49m\u001B[43mcampaign\u001B[49m\u001B[38;5;241;43m.\u001B[39;49m\u001B[43mbid_value\u001B[49m\u001B[43m)\u001B[49m\n\u001B[1;32m    105\u001B[0m \u001B[38;5;28;01melse\u001B[39;00m:\n\u001B[1;32m    106\u001B[0m     \u001B[38;5;28;01mreturn\u001B[39;00m AdServerEvent\u001B[38;5;241m.\u001B[39mno_bid(request, campaign\u001B[38;5;241m.\u001B[39mcampaign_id)\n",
      "File \u001B[0;32m~/projects/prototypes/ad_server.py:45\u001B[0m, in \u001B[0;36mAdServerEvent.bid\u001B[0;34m(request, campaign_id, bid_value)\u001B[0m\n\u001B[1;32m     42\u001B[0m     \u001B[38;5;28mself\u001B[39m\u001B[38;5;241m.\u001B[39mcampaign_id \u001B[38;5;241m=\u001B[39m \u001B[38;5;241m0\u001B[39m\n\u001B[1;32m     43\u001B[0m     \u001B[38;5;28mself\u001B[39m\u001B[38;5;241m.\u001B[39mbid_value \u001B[38;5;241m=\u001B[39m \u001B[38;5;241m0\u001B[39m\n\u001B[0;32m---> 45\u001B[0m \u001B[38;5;129m@staticmethod\u001B[39m\n\u001B[1;32m     46\u001B[0m \u001B[38;5;28;01mdef\u001B[39;00m \u001B[38;5;21mbid\u001B[39m(request: Request, campaign_id: \u001B[38;5;28mint\u001B[39m, bid_value: \u001B[38;5;28mint\u001B[39m) \u001B[38;5;241m-\u001B[39m\u001B[38;5;241m>\u001B[39m \u001B[38;5;124m'\u001B[39m\u001B[38;5;124mAdServerEvent\u001B[39m\u001B[38;5;124m'\u001B[39m:\n\u001B[1;32m     47\u001B[0m     e \u001B[38;5;241m=\u001B[39m AdServerEvent(request)\n\u001B[1;32m     48\u001B[0m     e\u001B[38;5;241m.\u001B[39mkind \u001B[38;5;241m=\u001B[39m \u001B[38;5;124m\"\u001B[39m\u001B[38;5;124mbid\u001B[39m\u001B[38;5;124m\"\u001B[39m\n",
      "\u001B[0;31mKeyboardInterrupt\u001B[0m: "
     ]
    }
   ],
   "source": [
    "load_save.save_events(output_dir, case_name, events)"
   ],
   "metadata": {
    "collapsed": false,
    "pycharm": {
     "name": "#%%\n"
    }
   }
  }
 ],
 "metadata": {
  "kernelspec": {
   "display_name": "Python 3",
   "language": "python",
   "name": "python3"
  },
  "language_info": {
   "codemirror_mode": {
    "name": "ipython",
    "version": 2
   },
   "file_extension": ".py",
   "mimetype": "text/x-python",
   "name": "python",
   "nbconvert_exporter": "python",
   "pygments_lexer": "ipython2",
   "version": "2.7.6"
  }
 },
 "nbformat": 4,
 "nbformat_minor": 0
}