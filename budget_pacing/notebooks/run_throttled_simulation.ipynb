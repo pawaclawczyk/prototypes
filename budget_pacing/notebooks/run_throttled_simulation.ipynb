{
 "cells": [
  {
   "cell_type": "code",
   "execution_count": 1,
   "metadata": {
    "collapsed": true
   },
   "outputs": [],
   "source": [
    "from pathlib import Path\n",
    "\n",
    "import ad_server\n",
    "import distributions\n",
    "import load_save\n",
    "import simulation"
   ]
  },
  {
   "cell_type": "code",
   "execution_count": 2,
   "outputs": [],
   "source": [
    "output_dir = Path(\"data\")\n",
    "case_name = \"throttled\"\n",
    "\n",
    "windows = 24 * 60\n",
    "base_distribution = distributions.custom_dist(windows)\n",
    "\n",
    "requests = 10 * 100_000\n",
    "requests_distribution = distributions.traffic_dist(base_distribution, requests)\n",
    "\n",
    "campaigns = []\n",
    "for i in range(1, 11):\n",
    "    bid_value = 10 + i\n",
    "    planned_budget = 100_000 * bid_value\n",
    "    campaigns.append(ad_server.Campaign(i, planned_budget, bid_value))\n",
    "\n",
    "fast_finish = 2 * 60\n",
    "pacing = ad_server.ThrottledPacing(base_distribution, fast_finish)\n",
    "\n",
    "select_win = ad_server.second_price_auction\n",
    "process = ad_server.AdServer(pacing, select_win, campaigns)"
   ],
   "metadata": {
    "collapsed": false,
    "pycharm": {
     "name": "#%%\n"
    }
   }
  },
  {
   "cell_type": "code",
   "execution_count": 3,
   "outputs": [],
   "source": [
    "load_save.save_base_distribution(output_dir, base_distribution)\n",
    "load_save.save_campaigns(output_dir, campaigns)"
   ],
   "metadata": {
    "collapsed": false,
    "pycharm": {
     "name": "#%%\n"
    }
   }
  },
  {
   "cell_type": "code",
   "execution_count": 4,
   "outputs": [],
   "source": [
    "sim = simulation.Simulation(requests_distribution, process)"
   ],
   "metadata": {
    "collapsed": false,
    "pycharm": {
     "name": "#%%\n"
    }
   }
  },
  {
   "cell_type": "code",
   "execution_count": 5,
   "outputs": [],
   "source": [
    "events = sim.run()"
   ],
   "metadata": {
    "collapsed": false,
    "pycharm": {
     "name": "#%%\n"
    }
   }
  },
  {
   "cell_type": "code",
   "execution_count": null,
   "outputs": [],
   "source": [
    "load_save.save_events(output_dir, case_name, events)"
   ],
   "metadata": {
    "collapsed": false,
    "pycharm": {
     "name": "#%%\n",
     "is_executing": true
    }
   }
  }
 ],
 "metadata": {
  "kernelspec": {
   "display_name": "Python 3",
   "language": "python",
   "name": "python3"
  },
  "language_info": {
   "codemirror_mode": {
    "name": "ipython",
    "version": 2
   },
   "file_extension": ".py",
   "mimetype": "text/x-python",
   "name": "python",
   "nbconvert_exporter": "python",
   "pygments_lexer": "ipython2",
   "version": "2.7.6"
  }
 },
 "nbformat": 4,
 "nbformat_minor": 0
}