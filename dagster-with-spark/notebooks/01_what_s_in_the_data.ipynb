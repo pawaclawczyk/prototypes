{
 "cells": [
  {
   "cell_type": "code",
   "execution_count": 1,
   "outputs": [],
   "source": [
    "from pyspark.sql import SparkSession, functions as fn"
   ],
   "metadata": {
    "collapsed": false,
    "pycharm": {
     "name": "#%%\n"
    }
   }
  },
  {
   "cell_type": "code",
   "execution_count": 2,
   "outputs": [
    {
     "name": "stderr",
     "output_type": "stream",
     "text": [
      "22/05/05 14:41:47 WARN Utils: Your hostname, homebook.local resolves to a loopback address: 127.0.0.1; using 192.168.1.104 instead (on interface en7)\n",
      "22/05/05 14:41:47 WARN Utils: Set SPARK_LOCAL_IP if you need to bind to another address\n",
      "Using Spark's default log4j profile: org/apache/spark/log4j-defaults.properties\n",
      "Setting default log level to \"WARN\".\n",
      "To adjust logging level use sc.setLogLevel(newLevel). For SparkR, use setLogLevel(newLevel).\n",
      "22/05/05 14:41:47 WARN NativeCodeLoader: Unable to load native-hadoop library for your platform... using builtin-java classes where applicable\n"
     ]
    }
   ],
   "source": [
    "spark = SparkSession.builder.getOrCreate()"
   ],
   "metadata": {
    "collapsed": false,
    "pycharm": {
     "name": "#%%\n"
    }
   }
  },
  {
   "cell_type": "code",
   "execution_count": 3,
   "outputs": [
    {
     "data": {
      "text/plain": "<pyspark.sql.session.SparkSession at 0x10eacee90>",
      "text/html": "\n            <div>\n                <p><b>SparkSession - in-memory</b></p>\n                \n        <div>\n            <p><b>SparkContext</b></p>\n\n            <p><a href=\"http://192.168.1.104:4040\">Spark UI</a></p>\n\n            <dl>\n              <dt>Version</dt>\n                <dd><code>v3.2.1</code></dd>\n              <dt>Master</dt>\n                <dd><code>local[*]</code></dd>\n              <dt>AppName</dt>\n                <dd><code>pyspark-shell</code></dd>\n            </dl>\n        </div>\n        \n            </div>\n        "
     },
     "execution_count": 3,
     "metadata": {},
     "output_type": "execute_result"
    }
   ],
   "source": [
    "spark"
   ],
   "metadata": {
    "collapsed": false,
    "pycharm": {
     "name": "#%%\n"
    }
   }
  },
  {
   "cell_type": "code",
   "execution_count": 4,
   "outputs": [
    {
     "name": "stderr",
     "output_type": "stream",
     "text": [
      "                                                                                \r"
     ]
    }
   ],
   "source": [
    "df = spark.read.parquet(\"../data/ingested/ingest_with_input_manager/\")"
   ],
   "metadata": {
    "collapsed": false,
    "pycharm": {
     "name": "#%%\n"
    }
   }
  },
  {
   "cell_type": "code",
   "execution_count": 5,
   "outputs": [
    {
     "name": "stdout",
     "output_type": "stream",
     "text": [
      "+-------+----------+------+------------------+-------------+--------+-----------------+-----+-------------------+-----------------------+----------+-----------------+-------------+--------------------+----------------------+---------------------+----------+\n",
      "|site_id|ad_type_id|geo_id|device_category_id|advertiser_id|order_id|line_item_type_id|os_id|integration_type_id|monetization_channel_id|ad_unit_id|total_impressions|total_revenue|viewable_impressions|measurable_impressions|revenue_share_percent|      date|\n",
      "+-------+----------+------+------------------+-------------+--------+-----------------+-----+-------------------+-----------------------+----------+-----------------+-------------+--------------------+----------------------+---------------------+----------+\n",
      "|    351|        10|   113|                 2|           79|    3487|                8|   58|                  1|                     19|      5179|               22|      -0.1542|                   8|                    22|                    1|2019-06-24|\n",
      "+-------+----------+------+------------------+-------------+--------+-----------------+-----+-------------------+-----------------------+----------+-----------------+-------------+--------------------+----------------------+---------------------+----------+\n",
      "\n"
     ]
    }
   ],
   "source": [
    "df.where(fn.col(\"total_revenue\") < 0).show()"
   ],
   "metadata": {
    "collapsed": false,
    "pycharm": {
     "name": "#%%\n"
    }
   }
  },
  {
   "cell_type": "code",
   "execution_count": 6,
   "outputs": [],
   "source": [
    "df = df.where(fn.col(\"total_revenue\") >= 0)"
   ],
   "metadata": {
    "collapsed": false,
    "pycharm": {
     "name": "#%%\n"
    }
   }
  },
  {
   "cell_type": "code",
   "execution_count": 7,
   "outputs": [
    {
     "name": "stdout",
     "output_type": "stream",
     "text": [
      "+-------+----------+------+------------------+-------------+--------+-----------------+-----+-------------------+-----------------------+----------+-----------------+-------------+--------------------+----------------------+---------------------+----+\n",
      "|site_id|ad_type_id|geo_id|device_category_id|advertiser_id|order_id|line_item_type_id|os_id|integration_type_id|monetization_channel_id|ad_unit_id|total_impressions|total_revenue|viewable_impressions|measurable_impressions|revenue_share_percent|date|\n",
      "+-------+----------+------+------------------+-------------+--------+-----------------+-----+-------------------+-----------------------+----------+-----------------+-------------+--------------------+----------------------+---------------------+----+\n",
      "+-------+----------+------+------------------+-------------+--------+-----------------+-----+-------------------+-----------------------+----------+-----------------+-------------+--------------------+----------------------+---------------------+----+\n",
      "\n"
     ]
    }
   ],
   "source": [
    "df.where(fn.col(\"total_revenue\") < 0).show()"
   ],
   "metadata": {
    "collapsed": false,
    "pycharm": {
     "name": "#%%\n"
    }
   }
  },
  {
   "cell_type": "code",
   "execution_count": 13,
   "outputs": [
    {
     "name": "stdout",
     "output_type": "stream",
     "text": [
      "+-------+----------+-----+\n",
      "|site_id|      date|count|\n",
      "+-------+----------+-----+\n",
      "|    351|2019-06-20| 3752|\n",
      "|    342|2019-06-20| 1111|\n",
      "|    344|2019-06-23| 1146|\n",
      "|    346|2019-06-23| 4689|\n",
      "|    349|2019-06-23| 1504|\n",
      "|    342|2019-06-17| 1087|\n",
      "|    351|2019-06-17| 3587|\n",
      "|    349|2019-06-17| 1653|\n",
      "|    350|2019-06-17| 3027|\n",
      "|    347|2019-06-20| 1132|\n",
      "|    348|2019-06-23|  462|\n",
      "|    349|2019-06-20| 1487|\n",
      "|    350|2019-06-23| 3093|\n",
      "|    345|2019-06-17| 2422|\n",
      "|    345|2019-06-20| 2538|\n",
      "|    350|2019-06-20| 3518|\n",
      "|    351|2019-06-23| 3403|\n",
      "|    348|2019-06-20|  589|\n",
      "|    343|2019-06-23| 2070|\n",
      "|    342|2019-06-23|  987|\n",
      "+-------+----------+-----+\n",
      "only showing top 20 rows\n",
      "\n"
     ]
    }
   ],
   "source": [
    "df.groupBy(\"site_id\", \"date\").count().show()"
   ],
   "metadata": {
    "collapsed": false,
    "pycharm": {
     "name": "#%%\n"
    }
   }
  },
  {
   "cell_type": "code",
   "execution_count": 8,
   "outputs": [],
   "source": [
    "df = df.withColumn(\"unpaid_total_impressions\", fn.when(fn.col(\"total_revenue\") > 0.0001, 0).otherwise(fn.col(\"total_impressions\")))"
   ],
   "metadata": {
    "collapsed": false,
    "pycharm": {
     "name": "#%%\n"
    }
   }
  },
  {
   "cell_type": "code",
   "execution_count": 14,
   "outputs": [],
   "source": [
    "site_df = df.groupBy(\"site_id\", \"date\").agg(\n",
    "    fn.sum(\"total_impressions\").alias(\"total_impressions\"),\n",
    "    fn.sum(\"unpaid_total_impressions\").alias(\"unpaid_total_impressions\"),\n",
    "    fn.sum(\"total_revenue\").alias(\"total_revenue\"),\n",
    ").withColumn(\n",
    "    \"fill_rate\", (fn.col(\"total_impressions\") - fn.col(\"unpaid_total_impressions\")) / fn.col(\"total_impressions\")\n",
    ").withColumn(\n",
    "    \"CPM\", fn.col(\"total_revenue\") * 1000 / (fn.col(\"total_impressions\") - fn.col(\"unpaid_total_impressions\"))\n",
    ").sort(\"site_id\", \"date\")"
   ],
   "metadata": {
    "collapsed": false,
    "pycharm": {
     "name": "#%%\n"
    }
   }
  },
  {
   "cell_type": "code",
   "execution_count": 15,
   "outputs": [
    {
     "name": "stdout",
     "output_type": "stream",
     "text": [
      "+-------+----------+-----------------+------------------------+------------------+------------------+------------------+\n",
      "|site_id|      date|total_impressions|unpaid_total_impressions|     total_revenue|         fill_rate|               CPM|\n",
      "+-------+----------+-----------------+------------------------+------------------+------------------+------------------+\n",
      "|    342|2019-06-01|            17394|                     896|42.542799999999964|0.9484879843624239|2.5786640804946033|\n",
      "|    342|2019-06-02|            29910|                    2028| 77.79620000000003| 0.932196589769308| 2.790194390646296|\n",
      "|    342|2019-06-03|            32938|                    2348| 83.68319999999996|0.9287145546177668| 2.735639097744359|\n",
      "|    342|2019-06-04|            17954|                    1242| 36.79819999999999|0.9308232148824774| 2.201902824317855|\n",
      "|    342|2019-06-05|            15992|                     790|             36.45| 0.950600300150075|2.3977108275226944|\n",
      "|    342|2019-06-06|            35262|                    3108|131.32639999999998| 0.911859792411094| 4.084294333519934|\n",
      "|    342|2019-06-07|            20836|                    1940|49.802199999999964|0.9068919178345172| 2.635594834885688|\n",
      "|    342|2019-06-08|            13836|                     946| 82.40580000000003|0.9316276380456779| 6.393002327385573|\n",
      "|    342|2019-06-09|            28018|                    1478| 78.50180000000007|0.9472481975872653|2.9578673700075386|\n",
      "|    342|2019-06-10|            34500|                    1968|101.52440000000011|0.9429565217391305| 3.120754948973322|\n",
      "|    342|2019-06-11|            17720|                    1054| 45.55419999999997|0.9405191873589165|2.7333613344533765|\n",
      "|    342|2019-06-12|            13792|                     802| 47.49779999999998|0.9418503480278422| 3.656489607390298|\n",
      "|    342|2019-06-13|            40540|                    3550|           84.9398|0.9124321657622102|2.2962908894295757|\n",
      "|    342|2019-06-14|            22628|                    2200| 52.99240000000002|0.9027753226091568| 2.594106128842766|\n",
      "|    342|2019-06-15|            13478|                    1128| 37.29400000000002|0.9163080575753079| 3.019757085020245|\n",
      "|    342|2019-06-16|            26126|                    2188| 61.03739999999992|0.9162520094924597| 2.549812014370454|\n",
      "|    342|2019-06-17|            37792|                    3030|109.81420000000016| 0.919824301439458| 3.159029975260346|\n",
      "|    342|2019-06-18|            29630|                    1496| 91.10239999999997| 0.949510631117111|3.2381602331698294|\n",
      "|    342|2019-06-19|            16800|                    1036| 43.09540000000001|0.9383333333333334|2.7337858411570672|\n",
      "|    342|2019-06-20|            43330|                    2852|          129.9018|0.9341795522732518| 3.209195118335886|\n",
      "+-------+----------+-----------------+------------------------+------------------+------------------+------------------+\n",
      "only showing top 20 rows\n",
      "\n"
     ]
    }
   ],
   "source": [
    "site_df.show()"
   ],
   "metadata": {
    "collapsed": false,
    "pycharm": {
     "name": "#%%\n"
    }
   }
  },
  {
   "cell_type": "code",
   "execution_count": 11,
   "outputs": [],
   "source": [
    "advertiser_df = df.groupBy(\"advertiser_id\").agg(\n",
    "    fn.sum(\"total_impressions\").alias(\"total_impressions\"),\n",
    "    fn.sum(\"unpaid_total_impressions\").alias(\"unpaid_total_impressions\"),\n",
    "    fn.sum(\"total_revenue\").alias(\"total_cost\"),\n",
    ").withColumn(\n",
    "    \"fill_rate\", (fn.col(\"total_impressions\") - fn.col(\"unpaid_total_impressions\")) / fn.col(\"total_impressions\")\n",
    ").withColumn(\n",
    "    \"CPM\", fn.col(\"total_cost\") * 1000 / (fn.col(\"total_impressions\") - fn.col(\"unpaid_total_impressions\"))\n",
    ")"
   ],
   "metadata": {
    "collapsed": false,
    "pycharm": {
     "name": "#%%\n"
    }
   }
  },
  {
   "cell_type": "code",
   "execution_count": 12,
   "outputs": [
    {
     "name": "stdout",
     "output_type": "stream",
     "text": [
      "+-------------+-----------------+------------------------+------------------+--------------------+------------------+\n",
      "|advertiser_id|total_impressions|unpaid_total_impressions|        total_cost|           fill_rate|               CPM|\n",
      "+-------------+-----------------+------------------------+------------------+--------------------+------------------+\n",
      "|         2635|             9582|                    9582|               0.0|                 0.0|              null|\n",
      "|         2637|           116676|                  116676|               0.0|                 0.0|              null|\n",
      "|           16|          1014464|                     420| 4611.875399999995|  0.9995859882657245| 4.548003242462848|\n",
      "|          139|            63340|                     428|209.32300000000006|  0.9932428165456267|3.3272348677517813|\n",
      "|         2640|            39050|                   39050|               0.0|                 0.0|              null|\n",
      "|           96|           299830|                      18| 561.1733999999982|  0.9999399659807224|1.8717509639373946|\n",
      "|         2646|           100018|                  100018|               0.0|                 0.0|              null|\n",
      "|           88|           871472|                   16844| 1306.428600000017|  0.9806717829144252|1.5286517642764068|\n",
      "|         2089|           493648|                  493648|               0.0|                 0.0|              null|\n",
      "|            8|           531210|                       0|1204.0162000000003|                 1.0|2.2665540934846864|\n",
      "|           84|            85976|                   85850|             0.252|0.001465525262864055|               2.0|\n",
      "|           97|           591886|                    7226| 766.9524000000005|  0.9877915679708592|1.3117921527041365|\n",
      "|         2641|           108106|                  108106|               0.0|                 0.0|              null|\n",
      "|         2636|           230382|                  230382|               0.0|                 0.0|              null|\n",
      "|           90|           271314|                       0| 760.7848000000012|                 1.0| 2.804074983229768|\n",
      "|         2634|           514380|                       0| 869.5090000000014|                 1.0|1.6904020374042563|\n",
      "|           79|         13355212|                  736908|29041.940599999645|  0.9448224408567981|2.3015724300190934|\n",
      "|         2642|            12572|                   12572|               0.0|                 0.0|              null|\n",
      "|         2639|           127096|                  127096|               0.0|                 0.0|              null|\n",
      "|         2645|           100006|                  100006|               0.0|                 0.0|              null|\n",
      "+-------------+-----------------+------------------------+------------------+--------------------+------------------+\n",
      "only showing top 20 rows\n",
      "\n"
     ]
    }
   ],
   "source": [
    "advertiser_df.show()"
   ],
   "metadata": {
    "collapsed": false,
    "pycharm": {
     "name": "#%%\n"
    }
   }
  }
 ],
 "metadata": {
  "kernelspec": {
   "display_name": "Python 3",
   "language": "python",
   "name": "python3"
  },
  "language_info": {
   "codemirror_mode": {
    "name": "ipython",
    "version": 2
   },
   "file_extension": ".py",
   "mimetype": "text/x-python",
   "name": "python",
   "nbconvert_exporter": "python",
   "pygments_lexer": "ipython2",
   "version": "2.7.6"
  }
 },
 "nbformat": 4,
 "nbformat_minor": 0
}