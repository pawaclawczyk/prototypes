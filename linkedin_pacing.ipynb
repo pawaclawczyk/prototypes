{
 "cells": [
  {
   "cell_type": "code",
   "execution_count": 1,
   "id": "355c1e20-5efa-473c-80c4-e5b9ca88f39e",
   "metadata": {},
   "outputs": [],
   "source": [
    "import math\n",
    "\n",
    "import seaborn as sns"
   ]
  },
  {
   "cell_type": "code",
   "execution_count": 2,
   "id": "9d8b3a65-be2a-4e0d-a91e-438bcd6974c1",
   "metadata": {},
   "outputs": [],
   "source": [
    "# configuration\n",
    "\n",
    "campaigns = 10\n",
    "campaign_target = 10_000\n",
    "campaign_bids = [i + 1 for i in range(campaigns)]\n",
    "campaign_budgets = [b * campaign_target for b in campaign_bids]"
   ]
  },
  {
   "cell_type": "code",
   "execution_count": 3,
   "id": "56d049c3-e46e-4b6f-a290-8d94dff539c0",
   "metadata": {},
   "outputs": [],
   "source": [
    "# number of time windows\n",
    "T = 24 * 60\n",
    "# normalized uniform distribution\n",
    "norm_dist = [1 / T for i in range(T)]"
   ]
  },
  {
   "cell_type": "code",
   "execution_count": 4,
   "id": "f295aec4-d52d-4452-8aea-aba63bf274bb",
   "metadata": {},
   "outputs": [],
   "source": [
    "impressions = campaigns * campaign_target\n",
    "\n",
    "dist = [math.ceil(p * impressions) for p in norm_dist]"
   ]
  },
  {
   "cell_type": "code",
   "execution_count": 5,
   "id": "a70b1ade-651f-4630-bca9-3aa7fc0eca0c",
   "metadata": {},
   "outputs": [],
   "source": [
    "assert sum(dist) >= impressions"
   ]
  },
  {
   "cell_type": "code",
   "execution_count": 6,
   "id": "e60e1c96-fab0-45b7-83a7-4fd2abd31cbb",
   "metadata": {},
   "outputs": [
    {
     "data": {
      "text/plain": "<seaborn.axisgrid.FacetGrid at 0x13be635e0>"
     },
     "execution_count": 6,
     "metadata": {},
     "output_type": "execute_result"
    },
    {
     "data": {
      "text/plain": "<Figure size 720x360 with 1 Axes>",
      "image/png": "[encoded data removed]"
     },
     "metadata": {
      "needs_background": "light"
     },
     "output_type": "display_data"
    }
   ],
   "source": [
    "sns.relplot(x=range(len(dist)), y=dist, kind=\"line\", aspect=2)"
   ]
  },
  {
   "cell_type": "code",
   "execution_count": 7,
   "id": "a8939298-50e2-43cd-b61b-cb027ee8733d",
   "metadata": {},
   "outputs": [],
   "source": [
    "def cumsum(arr):\n",
    "    res = []\n",
    "    s = 0\n",
    "    for x in arr:\n",
    "        s += x\n",
    "        res.append(s)\n",
    "    return res"
   ]
  },
  {
   "cell_type": "code",
   "execution_count": 8,
   "id": "a569bae0-2977-410e-ba8b-2d9b9c6c812e",
   "metadata": {},
   "outputs": [],
   "source": [
    "forecast = cumsum(dist)"
   ]
  },
  {
   "cell_type": "code",
   "execution_count": 9,
   "id": "e99987e4-05b0-42f7-bcb5-680048d5ab1f",
   "metadata": {},
   "outputs": [
    {
     "data": {
      "text/plain": "<seaborn.axisgrid.FacetGrid at 0x13bf76080>"
     },
     "execution_count": 9,
     "metadata": {},
     "output_type": "execute_result"
    },
    {
     "data": {
      "text/plain": "<Figure size 720x360 with 1 Axes>",
      "image/png": "[encoded data removed]"
     },
     "metadata": {
      "needs_background": "light"
     },
     "output_type": "display_data"
    }
   ],
   "source": [
    "sns.relplot(x=range(len(forecast)), y=forecast, kind=\"line\", aspect=2)"
   ]
  },
  {
   "cell_type": "code",
   "execution_count": 10,
   "id": "4c19c92b-3196-407a-8edf-9f4f2c8704d6",
   "metadata": {},
   "outputs": [],
   "source": [
    "actual = dist"
   ]
  },
  {
   "cell_type": "code",
   "execution_count": 11,
   "id": "1862c1f7-a921-4ded-9e88-2df06f176f9b",
   "metadata": {},
   "outputs": [],
   "source": [
    "from collections import defaultdict\n",
    "\n",
    "daily_budgets = [b for b in campaign_budgets]\n",
    "\n",
    "wins = defaultdict(lambda: [0 for t in range(T)])\n",
    "\n",
    "for t in range(1):\n",
    "    # the begining of the time window\n",
    "    payouts = []\n",
    "    for i in range(actual[t]):\n",
    "        bids = []\n",
    "\n",
    "        for c in range(campaigns):\n",
    "            if daily_budgets[c] >= campaign_bids[c]:\n",
    "                bids.append((campaign_bids[c], c))\n",
    "\n",
    "        if bids:\n",
    "            sorted(bids, reverse=True)\n",
    "            b, c = bids[0]\n",
    "            # first price auction\n",
    "            payouts.append((c, b))\n",
    "            wins[c][t] += 1\n",
    "\n",
    "    # the end of the time window\n",
    "    for c, b in payouts:\n",
    "        daily_budgets[c] -= b"
   ]
  },
  {
   "cell_type": "code",
   "execution_count": 12,
   "id": "12d06edc-ba4e-4c51-93cf-1fc1f8e7708b",
   "metadata": {},
   "outputs": [
    {
     "name": "stdout",
     "output_type": "stream",
     "text": [
      "0\n"
     ]
    }
   ],
   "source": [
    "for c, vs in wins.items():\n",
    "    print(c)\n",
    "    # plt.figure()\n",
    "    # sns.relplot(x=range(len(vs)), y=vs, kind=\"line\", aspect=2)"
   ]
  },
  {
   "cell_type": "code",
   "execution_count": 13,
   "id": "f16802e3-d952-4a87-bd86-c86eac6f6da7",
   "metadata": {},
   "outputs": [],
   "source": [
    "import random\n",
    "\n",
    "\n",
    "def random_noise(noise):\n",
    "    return random.random() * 2 * noise - noise\n",
    "\n",
    "\n",
    "def make_dist(base_dist, n, noise):\n",
    "    return [round(p * n * (1 + random_noise(noise))) for p in base_dist]"
   ]
  },
  {
   "cell_type": "code",
   "execution_count": 14,
   "id": "57aadf5d-b409-436a-9a0f-3f438a231f5a",
   "metadata": {},
   "outputs": [
    {
     "ename": "NameError",
     "evalue": "name 'base_dist' is not defined",
     "output_type": "error",
     "traceback": [
      "\u001B[0;31m---------------------------------------------------------------------------\u001B[0m",
      "\u001B[0;31mNameError\u001B[0m                                 Traceback (most recent call last)",
      "Input \u001B[0;32mIn [14]\u001B[0m, in \u001B[0;36m<module>\u001B[0;34m\u001B[0m\n\u001B[1;32m      2\u001B[0m bids \u001B[38;5;241m=\u001B[39m [i \u001B[38;5;241m+\u001B[39m \u001B[38;5;241m1\u001B[39m \u001B[38;5;28;01mfor\u001B[39;00m i \u001B[38;5;129;01min\u001B[39;00m \u001B[38;5;28mrange\u001B[39m(campaigns)]\n\u001B[1;32m      5\u001B[0m total_imp \u001B[38;5;241m=\u001B[39m campaigns \u001B[38;5;241m*\u001B[39m \u001B[38;5;241m10_000\u001B[39m\n\u001B[0;32m----> 7\u001B[0m ideal_forecast \u001B[38;5;241m=\u001B[39m make_dist(\u001B[43mbase_dist\u001B[49m, total_imp, \u001B[38;5;241m0\u001B[39m)\n\u001B[1;32m      8\u001B[0m forecast \u001B[38;5;241m=\u001B[39m make_dist(base_dist, total_imp, \u001B[38;5;241m0.05\u001B[39m)\n",
      "\u001B[0;31mNameError\u001B[0m: name 'base_dist' is not defined"
     ]
    }
   ],
   "source": [
    "campaigns = 10\n",
    "bids = [i + 1 for i in range(campaigns)]\n",
    "\n",
    "total_imp = campaigns * 10_000\n",
    "\n",
    "ideal_forecast = make_dist(base_dist, total_imp, 0)\n",
    "forecast = make_dist(base_dist, total_imp, 0.05)"
   ]
  },
  {
   "cell_type": "code",
   "execution_count": null,
   "id": "843d4e3c-9526-4cde-b7b1-385e3f5b9ba3",
   "metadata": {},
   "outputs": [],
   "source": [
    "def plot_vals(arr):\n",
    "    x = [i for i in range(len(arr))]\n",
    "    sns.relplot(x=x, y=arr, kind=\"line\", height=4, aspect=3)"
   ]
  },
  {
   "cell_type": "code",
   "execution_count": null,
   "id": "89cce7c1-d239-4ac8-aa52-b435b0311663",
   "metadata": {},
   "outputs": [],
   "source": [
    "plot_vals(base_dist)"
   ]
  },
  {
   "cell_type": "code",
   "execution_count": null,
   "id": "6734460e-94a3-4d94-85b6-6f6ff9e85dc1",
   "metadata": {},
   "outputs": [],
   "source": [
    "plot_vals(ideal_forecast)"
   ]
  },
  {
   "cell_type": "code",
   "execution_count": null,
   "id": "dc395a0c-53d0-4524-b57d-40cfc88d798f",
   "metadata": {},
   "outputs": [],
   "source": [
    "plot_vals(forecast)"
   ]
  },
  {
   "cell_type": "code",
   "execution_count": null,
   "id": "4893e79c-ef02-4160-982a-9e419e944b5b",
   "metadata": {},
   "outputs": [],
   "source": [
    "forecast_cumsum = cumsum(forecast)"
   ]
  },
  {
   "cell_type": "code",
   "execution_count": null,
   "id": "36379043-881b-4af3-a0cf-d2733f8a9636",
   "metadata": {},
   "outputs": [],
   "source": [
    "plot_vals(forecast_cumsum)"
   ]
  },
  {
   "cell_type": "code",
   "execution_count": null,
   "id": "f31f185c-91a8-4fcb-b559-cda436ffa2cb",
   "metadata": {},
   "outputs": [],
   "source": []
  }
 ],
 "metadata": {
  "kernelspec": {
   "display_name": "Python 3 (ipykernel)",
   "language": "python",
   "name": "python3"
  },
  "language_info": {
   "codemirror_mode": {
    "name": "ipython",
    "version": 3
   },
   "file_extension": ".py",
   "mimetype": "text/x-python",
   "name": "python",
   "nbconvert_exporter": "python",
   "pygments_lexer": "ipython3",
   "version": "3.10.2"
  }
 },
 "nbformat": 4,
 "nbformat_minor": 5
}