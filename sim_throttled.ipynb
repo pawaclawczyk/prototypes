{
 "cells": [
  {
   "cell_type": "code",
   "execution_count": 1,
   "metadata": {
    "collapsed": true
   },
   "outputs": [],
   "source": [
    "import os\n",
    "from pathlib import Path\n",
    "\n",
    "import pandas as pd\n",
    "\n",
    "import ad_server\n",
    "import distributions\n",
    "import simulation"
   ]
  },
  {
   "cell_type": "code",
   "execution_count": 2,
   "outputs": [],
   "source": [
    "windows = 24 * 60\n",
    "requests = 2_000\n",
    "\n",
    "base_distribution = distributions.custom_dist(windows)\n",
    "requests_distribution = distributions.traffic_dist(base_distribution, requests)\n",
    "campaigns = [ad_server.Campaign(1, 10_000, 10), ad_server.Campaign(2, 11_000, 11)]\n",
    "pacing = ad_server.ThrottledPacing(base_distribution, 2 * 60)\n",
    "# select_win = pacing.first_price_auction\n",
    "select_win = ad_server.second_price_auction\n",
    "process = ad_server.AdServer(pacing, select_win, campaigns)"
   ],
   "metadata": {
    "collapsed": false,
    "pycharm": {
     "name": "#%%\n"
    }
   }
  },
  {
   "cell_type": "code",
   "execution_count": 3,
   "outputs": [],
   "source": [
    "sim = simulation.Simulation(requests_distribution, process)"
   ],
   "metadata": {
    "collapsed": false,
    "pycharm": {
     "name": "#%%\n"
    }
   }
  },
  {
   "cell_type": "code",
   "execution_count": 4,
   "outputs": [],
   "source": [
    "df = pd.DataFrame(e.to_dict() for e in sim.run())\n",
    "df.index.name = \"ord\""
   ],
   "metadata": {
    "collapsed": false,
    "pycharm": {
     "name": "#%%\n"
    }
   }
  },
  {
   "cell_type": "code",
   "execution_count": 5,
   "outputs": [],
   "source": [
    "path = Path(\"data/results/throttled.csv\")\n",
    "os.makedirs(path.parent, exist_ok=True)\n",
    "df.to_csv(path)"
   ],
   "metadata": {
    "collapsed": false,
    "pycharm": {
     "name": "#%%\n"
    }
   }
  },
  {
   "cell_type": "code",
   "execution_count": 6,
   "outputs": [],
   "source": [
    "path = Path(\"data/request_distribution.csv\")\n",
    "os.makedirs(path.parent, exist_ok=True)\n",
    "s = pd.Series(requests_distribution)\n",
    "s.index.name = \"window\"\n",
    "s.name = \"requests\"\n",
    "s.to_csv(path)"
   ],
   "metadata": {
    "collapsed": false,
    "pycharm": {
     "name": "#%%\n"
    }
   }
  }
 ],
 "metadata": {
  "kernelspec": {
   "display_name": "Python 3",
   "language": "python",
   "name": "python3"
  },
  "language_info": {
   "codemirror_mode": {
    "name": "ipython",
    "version": 2
   },
   "file_extension": ".py",
   "mimetype": "text/x-python",
   "name": "python",
   "nbconvert_exporter": "python",
   "pygments_lexer": "ipython2",
   "version": "2.7.6"
  }
 },
 "nbformat": 4,
 "nbformat_minor": 0
}