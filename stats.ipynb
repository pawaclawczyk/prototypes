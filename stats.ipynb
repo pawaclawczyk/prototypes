{
 "cells": [
  {
   "cell_type": "code",
   "execution_count": 2,
   "outputs": [],
   "source": [
    "import numpy as np\n",
    "from scipy.stats import norm\n",
    "import seaborn as sns"
   ],
   "metadata": {
    "collapsed": false,
    "pycharm": {
     "name": "#%%\n"
    }
   }
  },
  {
   "cell_type": "code",
   "execution_count": 3,
   "metadata": {
    "collapsed": true
   },
   "outputs": [],
   "source": [
    "arr = np.linspace(norm.ppf(0.01), norm.ppf(0.99), 100)"
   ]
  },
  {
   "cell_type": "code",
   "execution_count": 4,
   "outputs": [
    {
     "data": {
      "text/plain": "array([0.02665214, 0.0296985 , 0.03302004, 0.03663206, 0.04054955,\n       0.04478694, 0.049358  , 0.05427559, 0.05955143, 0.06519596,\n       0.07121803, 0.0776247 , 0.08442105, 0.09160987, 0.09919153,\n       0.1071637 , 0.11552116, 0.12425566, 0.13335569, 0.14280642,\n       0.1525895 , 0.16268307, 0.17306164, 0.18369615, 0.19455396,\n       0.20559893, 0.21679157, 0.22808919, 0.23944611, 0.25081392,\n       0.26214179, 0.2733768 , 0.28446433, 0.29534848, 0.30597253,\n       0.3162794 , 0.32621215, 0.33571453, 0.34473146, 0.35320956,\n       0.36109774, 0.3683476 , 0.37491403, 0.38075561, 0.38583507,\n       0.39011967, 0.39358159, 0.39619817, 0.39795222, 0.39883215,\n       0.39883215, 0.39795222, 0.39619817, 0.39358159, 0.39011967,\n       0.38583507, 0.38075561, 0.37491403, 0.3683476 , 0.36109774,\n       0.35320956, 0.34473146, 0.33571453, 0.32621215, 0.3162794 ,\n       0.30597253, 0.29534848, 0.28446433, 0.2733768 , 0.26214179,\n       0.25081392, 0.23944611, 0.22808919, 0.21679157, 0.20559893,\n       0.19455396, 0.18369615, 0.17306164, 0.16268307, 0.1525895 ,\n       0.14280642, 0.13335569, 0.12425566, 0.11552116, 0.1071637 ,\n       0.09919153, 0.09160987, 0.08442105, 0.0776247 , 0.07121803,\n       0.06519596, 0.05955143, 0.05427559, 0.049358  , 0.04478694,\n       0.04054955, 0.03663206, 0.03302004, 0.0296985 , 0.02665214])"
     },
     "execution_count": 4,
     "metadata": {},
     "output_type": "execute_result"
    }
   ],
   "source": [
    "norm.pdf(arr)"
   ],
   "metadata": {
    "collapsed": false,
    "pycharm": {
     "name": "#%%\n"
    }
   }
  },
  {
   "cell_type": "code",
   "execution_count": null,
   "outputs": [],
   "source": [],
   "metadata": {
    "collapsed": false,
    "pycharm": {
     "name": "#%%\n"
    }
   }
  }
 ],
 "metadata": {
  "kernelspec": {
   "display_name": "Python 3",
   "language": "python",
   "name": "python3"
  },
  "language_info": {
   "codemirror_mode": {
    "name": "ipython",
    "version": 2
   },
   "file_extension": ".py",
   "mimetype": "text/x-python",
   "name": "python",
   "nbconvert_exporter": "python",
   "pygments_lexer": "ipython2",
   "version": "2.7.6"
  }
 },
 "nbformat": 4,
 "nbformat_minor": 0
}